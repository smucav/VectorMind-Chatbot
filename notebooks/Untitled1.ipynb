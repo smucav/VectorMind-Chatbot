{
 "cells": [
  {
   "cell_type": "code",
   "execution_count": 5,
   "id": "4f2491b4-2733-4a5b-8234-786828f9d7f2",
   "metadata": {},
   "outputs": [],
   "source": [
    "import polars as pl\n",
    "from pathlib import Path\n",
    "from collections import defaultdict, Counter\n",
    "from datetime import datetime\n",
    "import re"
   ]
  },
  {
   "cell_type": "code",
   "execution_count": 6,
   "id": "9d79383e-bfd3-4c7e-8b0e-85dc006d3b13",
   "metadata": {},
   "outputs": [],
   "source": [
    "DATA_DIR = Path(\"data\")\n",
    "DATA_DIR.mkdir(exist_ok=True)\n",
    "RAW_PATH = \"../data/raw/complaints.csv\" \n",
    "OUTPUT_PATH = DATA_DIR / \"processed/filtered_complaints.csv\"\n",
    "SUMMARY_PATH = DATA_DIR / \"eda_summary.md\""
   ]
  },
  {
   "cell_type": "code",
   "execution_count": 7,
   "id": "63de64ec-92f8-419f-a7a5-3df428c19385",
   "metadata": {},
   "outputs": [],
   "source": [
    "CHUNK_SIZE = 100_000\n",
    "TARGET_PRODUCTS = [\n",
    "    \"Credit card\", \"Personal loan\", \"Buy Now, Pay Later (BNPL)\",\n",
    "    \"Savings account\", \"Money transfers\"\n",
    "]"
   ]
  },
  {
   "cell_type": "code",
   "execution_count": 8,
   "id": "a7ce1cc4-8c60-46c5-9a70-ed5bead3e7e6",
   "metadata": {},
   "outputs": [],
   "source": [
    "total_rows = 0\n",
    "null_counts = defaultdict(int)\n",
    "narrative_lengths = []\n",
    "product_counts = Counter()\n",
    "monthly_counts = Counter()\n",
    "missing_narratives = 0\n",
    "duplicates = Counter()"
   ]
  },
  {
   "cell_type": "code",
   "execution_count": 10,
   "id": "5139574e-3e72-4ada-856b-6aa3db1ba8df",
   "metadata": {},
   "outputs": [],
   "source": [
    "def clean_narrative(text: str) -> str:\n",
    "    if not text: return \"\"\n",
    "    text = text.lower()\n",
    "    text = re.sub(r\"[^a-z0-9\\s.,!?]\", \"\", text)\n",
    "    for phrase in [\n",
    "        r\"i am writing to file a complaint\",\n",
    "        r\"please assist me\",\n",
    "        r\"this is regarding my account\"\n",
    "    ]:\n",
    "        text = re.sub(phrase, \"\", text, flags=re.IGNORECASE)\n",
    "    return re.sub(r\"\\s+\", \" \", text).strip()\n",
    "writer = None"
   ]
  },
  {
   "cell_type": "code",
   "execution_count": 11,
   "id": "8d218a4a-6b1f-4c12-ab00-586be2503c47",
   "metadata": {},
   "outputs": [
    {
     "name": "stdout",
     "output_type": "stream",
     "text": [
      "🚀 Starting chunked EDA...\n"
     ]
    },
    {
     "ename": "NameError",
     "evalue": "name 'CSV_PATH' is not defined",
     "output_type": "error",
     "traceback": [
      "\u001b[0;31m---------------------------------------------------------------------------\u001b[0m",
      "\u001b[0;31mNameError\u001b[0m                                 Traceback (most recent call last)",
      "Cell \u001b[0;32mIn[11], line 3\u001b[0m\n\u001b[1;32m      1\u001b[0m \u001b[38;5;66;03m# --- Chunked EDA ---\u001b[39;00m\n\u001b[1;32m      2\u001b[0m \u001b[38;5;28mprint\u001b[39m(\u001b[38;5;124m\"\u001b[39m\u001b[38;5;124m🚀 Starting chunked EDA...\u001b[39m\u001b[38;5;124m\"\u001b[39m)\n\u001b[0;32m----> 3\u001b[0m \u001b[38;5;28;01mfor\u001b[39;00m chunk \u001b[38;5;129;01min\u001b[39;00m pl\u001b[38;5;241m.\u001b[39mread_csv(\u001b[43mCSV_PATH\u001b[49m, low_memory\u001b[38;5;241m=\u001b[39m\u001b[38;5;28;01mTrue\u001b[39;00m, batch_size\u001b[38;5;241m=\u001b[39mCHUNK_SIZE)\u001b[38;5;241m.\u001b[39miter_chunks():\n\u001b[1;32m      4\u001b[0m     total_rows \u001b[38;5;241m+\u001b[39m\u001b[38;5;241m=\u001b[39m chunk\u001b[38;5;241m.\u001b[39mheight\n\u001b[1;32m      6\u001b[0m     \u001b[38;5;66;03m# Nulls\u001b[39;00m\n",
      "\u001b[0;31mNameError\u001b[0m: name 'CSV_PATH' is not defined"
     ]
    }
   ],
   "source": [
    "# --- Chunked EDA ---\n",
    "print(\"🚀 Starting chunked EDA...\")\n",
    "for chunk in pl.read_csv(CSV_PATH, low_memory=True, batch_size=CHUNK_SIZE).iter_chunks():\n",
    "    total_rows += chunk.height\n",
    "\n",
    "    # Nulls\n",
    "    for col in chunk.columns:\n",
    "        null_counts[col] += chunk[col].null_count()\n",
    "\n",
    "    # Products\n",
    "    if \"Product\" in chunk.columns:\n",
    "        product_counts.update(chunk[\"Product\"].drop_nulls().to_list())\n",
    "\n",
    "    # Duplicates (approximate)\n",
    "    if \"Consumer complaint narrative\" in chunk.columns:\n",
    "        for text in chunk[\"Consumer complaint narrative\"].drop_nulls():\n",
    "            duplicates[text.strip()] += 1\n",
    "\n",
    "    # Narrative length\n",
    "    if \"Consumer complaint narrative\" in chunk.columns:\n",
    "        for text in chunk[\"Consumer complaint narrative\"]:\n",
    "            if text is None:\n",
    "                missing_narratives += 1\n",
    "                continue\n",
    "            words = len(str(text).split())\n",
    "            narrative_lengths.append(words)\n",
    "\n",
    "    # Time trend\n",
    "    if \"Date received\" in chunk.columns:\n",
    "        try:\n",
    "            dates = pl.Series(\"received\", chunk[\"Date received\"]).str.strptime(pl.Date, \"%Y-%m-%d\")\n",
    "            months = dates.dt.strftime(\"%Y-%m\")\n",
    "            monthly_counts.update(months.drop_nulls().to_list())\n",
    "        except:\n",
    "            pass\n",
    "\n",
    "    # --- Filtered data for output ---\n",
    "    if all(col in chunk.columns for col in [\"Product\", \"Consumer complaint narrative\"]):\n",
    "        filtered = chunk.filter(\n",
    "            (pl.col(\"Product\").is_in(TARGET_PRODUCTS)) &\n",
    "            (pl.col(\"Consumer complaint narrative\").is_not_null())\n",
    "        ).with_columns([\n",
    "            pl.col(\"Consumer complaint narrative\").apply(clean_narrative).alias(\"cleaned_narrative\")\n",
    "        ])\n",
    "        if writer is None:\n",
    "            writer = open(OUTPUT_PATH, \"w\", encoding=\"utf-8\")\n",
    "            writer.write(filtered.write_csv(separator=\",\", include_header=True))\n",
    "        else:\n",
    "            writer.write(filtered.write_csv(separator=\",\", include_header=False))"
   ]
  },
  {
   "cell_type": "code",
   "execution_count": 3,
   "id": "81f2f7e1-c92d-4562-9af1-e388648ad848",
   "metadata": {},
   "outputs": [
    {
     "name": "stdout",
     "output_type": "stream",
     "text": [
      "🧩 Loading dataset (lazy)...\n"
     ]
    }
   ],
   "source": [
    "print(\"🧩 Loading dataset (lazy)...\")\n",
    "lazy_df = pl.scan_csv(RAW_PATH)"
   ]
  },
  {
   "cell_type": "code",
   "execution_count": 4,
   "id": "1ad29d24-f0b5-49f2-ac90-4c91d3451774",
   "metadata": {},
   "outputs": [
    {
     "name": "stdout",
     "output_type": "stream",
     "text": [
      "📘 Schema Overview:\n",
      " - Date received: String\n",
      " - Product: String\n",
      " - Sub-product: String\n",
      " - Issue: String\n",
      " - Sub-issue: String\n",
      " - Consumer complaint narrative: String\n",
      " - Company public response: String\n",
      " - Company: String\n",
      " - State: String\n",
      " - ZIP code: String\n",
      " - Tags: String\n",
      " - Consumer consent provided?: String\n",
      " - Submitted via: String\n",
      " - Date sent to company: String\n",
      " - Company response to consumer: String\n",
      " - Timely response?: String\n",
      " - Consumer disputed?: String\n",
      " - Complaint ID: Int64\n"
     ]
    }
   ],
   "source": [
    "schema = lazy_df.collect_schema()\n",
    "print(\"📘 Schema Overview:\")\n",
    "for col, dtype in schema.items():\n",
    "    print(f\" - {col}: {dtype}\")"
   ]
  },
  {
   "cell_type": "code",
   "execution_count": null,
   "id": "b8f829d2-9c8f-4de0-98e5-3dc2f8596074",
   "metadata": {},
   "outputs": [],
   "source": [
    "total_rows = lazy_df.select(pl.len()).collect()[0, 0]\n",
    "print(f\"📊 Total Rows: {total_rows:,}\")"
   ]
  },
  {
   "cell_type": "code",
   "execution_count": null,
   "id": "995a980a-5869-4b24-a148-c2c34585af6b",
   "metadata": {},
   "outputs": [],
   "source": []
  }
 ],
 "metadata": {
  "kernelspec": {
   "display_name": "Python 3 (ipykernel)",
   "language": "python",
   "name": "python3"
  },
  "language_info": {
   "codemirror_mode": {
    "name": "ipython",
    "version": 3
   },
   "file_extension": ".py",
   "mimetype": "text/x-python",
   "name": "python",
   "nbconvert_exporter": "python",
   "pygments_lexer": "ipython3",
   "version": "3.10.17"
  }
 },
 "nbformat": 4,
 "nbformat_minor": 5
}
